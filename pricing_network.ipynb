{
 "cells": [
  {
   "cell_type": "code",
   "execution_count": 1,
   "metadata": {},
   "outputs": [],
   "source": [
    "import pandas as pd\n",
    "from graphviz import Digraph\n",
    "from enum import Enum\n",
    "from dataclasses import dataclass"
   ]
  },
  {
   "cell_type": "code",
   "execution_count": 2,
   "metadata": {},
   "outputs": [],
   "source": [
    "table = 'datapipeline.hist_cp_fill'"
   ]
  },
  {
   "cell_type": "code",
   "execution_count": 3,
   "metadata": {},
   "outputs": [],
   "source": [
    "class Shape(Enum):\n",
    "    source = {'shape':'record', 'fillcolor': '#90EE90', 'style': 'filled'}\n",
    "    derived  = {'shape':'oval', 'fillcolor': '#E6F5FF', 'style': 'filled'}\n",
    "    UNK  = {'shape':'hexagon', 'fillcolor': '#FFB6C1', 'style': 'filled'}\n"
   ]
  },
  {
   "cell_type": "code",
   "execution_count": 4,
   "metadata": {},
   "outputs": [],
   "source": [
    "def dictionary_factory():\n",
    "    return {}\n",
    "\n",
    "class DependencyGraph:\n",
    "    def __init__(self,table):\n",
    "        self.table = table\n",
    "        self.nodes = dictionary_factory()\n",
    "        self.dot = Digraph(format='svg', graph_attr={'rankdir':'LR'})\n",
    "\n",
    "    def draw_dot(self) -> None:\n",
    "        node_df = self._load_graph_data()\n",
    "        for _, row in node_df.iterrows():\n",
    "            shape = Shape[row['type']].value\n",
    "            self.create_node(row, shape)\n",
    "            self.dot.edge(row['source'], row['target'])\n",
    "        self.dot.render(filename=f\"graphs/{self.table}\")\n",
    "        return\n",
    "\n",
    "    def _load_graph_data(self) -> pd.DataFrame:\n",
    "        try:\n",
    "            df = pd.read_csv(f'{self.table}.csv')\n",
    "        except FileNotFoundError:\n",
    "            raise FileNotFoundError(f\"{self.table}.csv not found.\")\n",
    "        return df\n",
    "    \n",
    "    def create_node(self, row: pd.Series, shape: dict) -> None:\n",
    "        self._create_node(row['source'], row['URL'], shape)\n",
    "        self._create_node(row['target'], row['URL'], shape)\n",
    "\n",
    "    def _create_node(self, node_name: str, url: str, shape: dict) -> None:\n",
    "        if node_name not in self.nodes:\n",
    "            node_attrs = {'name': node_name, 'label': node_name, 'URL': url}\n",
    "            node_attrs.update(shape)\n",
    "            self.dot.node(**node_attrs)\n",
    "            self.nodes[node_name] = True\n",
    "            self.nodes[node_name] = True\n"
   ]
  },
  {
   "cell_type": "code",
   "execution_count": 5,
   "metadata": {},
   "outputs": [],
   "source": [
    "graph = DependencyGraph(table)\n",
    "graph.draw_dot()"
   ]
  },
  {
   "cell_type": "code",
   "execution_count": null,
   "metadata": {},
   "outputs": [],
   "source": []
  }
 ],
 "metadata": {
  "kernelspec": {
   "display_name": ".venv39",
   "language": "python",
   "name": "python3"
  },
  "language_info": {
   "codemirror_mode": {
    "name": "ipython",
    "version": 3
   },
   "file_extension": ".py",
   "mimetype": "text/x-python",
   "name": "python",
   "nbconvert_exporter": "python",
   "pygments_lexer": "ipython3",
   "version": "3.10.9"
  },
  "orig_nbformat": 4
 },
 "nbformat": 4,
 "nbformat_minor": 2
}
