{
 "cells": [
  {
   "cell_type": "code",
   "execution_count": 235,
   "metadata": {},
   "outputs": [],
   "source": [
    "import pandas as pd\n",
    "from graphviz import Digraph\n",
    "import pydotplus\n",
    "import networkx as nx\n",
    "from enum import Enum\n",
    "from copy import deepcopy"
   ]
  },
  {
   "cell_type": "code",
   "execution_count": 236,
   "metadata": {},
   "outputs": [],
   "source": [
    "table = 'datapipeline.hist_cp_fill'"
   ]
  },
  {
   "cell_type": "code",
   "execution_count": 237,
   "metadata": {},
   "outputs": [],
   "source": [
    "class Shape(Enum):\n",
    "    source = {'shape':'record', 'fillcolor': '#90EE90', 'style': 'filled'}\n",
    "    derived  = {'shape':'oval', 'fillcolor': '#E6F5FF', 'style': 'filled'}\n",
    "    UNK  = {'shape':'hexagon', 'fillcolor': '#FFB6C1', 'style': 'filled'}\n"
   ]
  },
  {
   "cell_type": "code",
   "execution_count": 238,
   "metadata": {},
   "outputs": [],
   "source": [
    "from collections import defaultdict\n",
    "\n",
    "\n",
    "def dictionary_factory():\n",
    "    return {}\n",
    "\n",
    "def get_ancestors(graph, node_name) -> set:\n",
    "    ancestors = set(graph.in_edges(node_name))\n",
    "    for ancestor in list(ancestors):\n",
    "        ancestors |= get_ancestors(graph, ancestor[0])\n",
    "    return ancestors\n",
    "\n",
    "class DependencyGraph:\n",
    "    def __init__(self,table, subgraph: str|None = None):\n",
    "        self.table = table\n",
    "        self.subgraph = subgraph   \n",
    "        self.create_graph()\n",
    "\n",
    "    def create_graph(self) -> None:\n",
    "        self.create_empty_dag()\n",
    "        node_df = self._load_graph_data()\n",
    "        for _, row in node_df.iterrows():\n",
    "            self.add_to_dag(self.shape_lookup, row)\n",
    "        \n",
    "        if self.subgraph is not None:\n",
    "            nx_graph = self._to_networkx() \n",
    "            ancestors = get_ancestors(nx_graph, self.subgraph)\n",
    "            self.create_empty_dag()       \n",
    "            for _, row in node_df.iterrows():\n",
    "                if (row['source'], row['target']) in ancestors:\n",
    "                    self.add_to_dag(self.shape_lookup, row)\n",
    "\n",
    "    def create_empty_dag(self):\n",
    "        self.dot = Digraph(format='svg', graph_attr={'rankdir':'LR'})\n",
    "        self.nodes = dictionary_factory()\n",
    "\n",
    "    def add_to_dag(self, shape_lookup: dict, row: pd.Series):\n",
    "        shape = (\n",
    "            Shape[shape_lookup.get(row['source'], 'derived')].value,\n",
    "            Shape[shape_lookup.get(row['target'], 'derived')].value\n",
    "            )\n",
    "        self.create_node(row, shape)\n",
    "        self.dot.edge(row['source'], row['target'])\n",
    "\n",
    "    def _to_networkx(self):\n",
    "        dotplus = pydotplus.graph_from_dot_data(self.dot.source)\n",
    "        nx_graph = nx.nx_pydot.from_pydot(dotplus)\n",
    "        return nx_graph\n",
    "\n",
    "\n",
    "    def _load_graph_data(self) -> pd.DataFrame:\n",
    "        try:\n",
    "            df = pd.read_csv(f'{self.table}.csv')\n",
    "            self.shape_lookup = dict(zip(df.source, df.type))\n",
    "        except FileNotFoundError:\n",
    "            raise FileNotFoundError(f\"{self.table}.csv not found.\")\n",
    "        return df\n",
    "    \n",
    "    def draw_dot(self) -> None:\n",
    "        return self.dot\n",
    "\n",
    "    def render_dot(self) -> None:\n",
    "        if self.subgraph is not None:\n",
    "            self.dot.render(filename=f\"graphs/{self.subgraph}\")\n",
    "        else:\n",
    "            self.dot.render(filename=f\"graphs/{self.table}\")\n",
    "        return\n",
    "\n",
    "\n",
    "    def create_node(self, row: pd.Series, shape: tuple) -> None:\n",
    "        self._create_node(row['source'], shape[0], row['URL'])\n",
    "        self._create_node(row['target'], shape[1])\n",
    "    \n",
    "    def _create_node(self, node_name: str, shape: dict, url: str|None = None) -> None:\n",
    "        if node_name not in self.nodes:\n",
    "            node_attrs = {'name': node_name, 'label': node_name, 'URL': url}\n",
    "            node_attrs.update(shape)\n",
    "            self.dot.node(**node_attrs)\n",
    "            self.nodes[node_name] = True\n",
    "    \n",
    "\n"
   ]
  },
  {
   "cell_type": "code",
   "execution_count": 239,
   "metadata": {},
   "outputs": [],
   "source": [
    "graph = DependencyGraph(table)\n",
    "graph.render_dot()"
   ]
  },
  {
   "cell_type": "code",
   "execution_count": null,
   "metadata": {},
   "outputs": [],
   "source": []
  }
 ],
 "metadata": {
  "kernelspec": {
   "display_name": ".venv39",
   "language": "python",
   "name": "python3"
  },
  "language_info": {
   "codemirror_mode": {
    "name": "ipython",
    "version": 3
   },
   "file_extension": ".py",
   "mimetype": "text/x-python",
   "name": "python",
   "nbconvert_exporter": "python",
   "pygments_lexer": "ipython3",
   "version": "3.10.9"
  },
  "orig_nbformat": 4
 },
 "nbformat": 4,
 "nbformat_minor": 2
}
