{
 "cells": [
  {
   "cell_type": "code",
   "execution_count": 1,
   "metadata": {},
   "outputs": [],
   "source": [
    "import numpy as np\n",
    "import pandas as pd\n",
    "from matplotlib import pyplot as plt"
   ]
  },
  {
   "cell_type": "code",
   "execution_count": 37,
   "metadata": {},
   "outputs": [
    {
     "data": {
      "text/plain": [
       "(42000, 784)"
      ]
     },
     "execution_count": 37,
     "metadata": {},
     "output_type": "execute_result"
    }
   ],
   "source": [
    "train = pd.read_csv(\"data/train.csv\").to_numpy()\n",
    "test = pd.read_csv(\"data/test.csv\").to_numpy()\n",
    "\n",
    "train[:,0]\n",
    "\n",
    "x_train, y_train = train[:,1:], train[:,0]\n",
    "x_test, y_test = test[:,1:], test[:,0]\n",
    "x_train.shape"
   ]
  },
  {
   "cell_type": "code",
   "execution_count": 428,
   "metadata": {},
   "outputs": [],
   "source": [
    "class Linear:\n",
    "    def __init__(self, in_features, out_features) -> None:\n",
    "        self.weights = np.random.uniform(-1,1,(out_features, in_features)) - 0.5\n",
    "        self.bias = np.random.uniform(-1,1,(out_features, 1)) - 0.5\n",
    "    \n",
    "    def linear(self, x):\n",
    "        \"\"\"\"\"\"\n",
    "        return self.weights.dot(x) + self.bias\n",
    "\n",
    "\n",
    "class NeuralNetwork():\n",
    "    def __init__(self) -> None:\n",
    "        self.l1 = Linear(784, 15)\n",
    "        self.l2 = Linear(15, 10)\n",
    "    \n",
    "    def forward(self, x):\n",
    "        \"x = (n x 784)\"\n",
    "        x = x.T # (n x 784) --> (784 x n)\n",
    "        self.z1 = self.l1.linear(x) # (784 x n) --> (20 x n)\n",
    "        self.a1 = self.ReLU(self.z1)\n",
    "        self.z2 = self.l2.linear(self.a1) # (20 x n) --> (10 x n)\n",
    "        self.a2 = self.softmax(self.z2) # (n x 10)\n",
    "        return self.a2\n",
    "\n",
    "    def backwards(self, y, x):\n",
    "        m = y.size\n",
    "        y = self.one_hot(y)\n",
    "        dZ2 = self.a2 - y.T\n",
    "        print(dZ2, self.a1.T)\n",
    "        print(dZ2.dot(self.a1.T))\n",
    "        # dW2 = 1 / m * dZ2.dot(self.a1.T)\n",
    "        # db2 = 1 / m * np.sum(dZ2, 1)\n",
    "        # dZ1 = self.l2.weights.T.dot(dZ2) * self.deriv_ReLU(self.z1)\n",
    "        # dW1 = 1 / m * dZ1.dot(x)\n",
    "        # db1 = 1 / m * np.sum(dZ1, 1)\n",
    "        return #dW1, db2, dW2, db2\n",
    "\n",
    "    @staticmethod\n",
    "    def one_hot(y):\n",
    "        enc_y = np.zeros((y.size, y.max()+1))\n",
    "        enc_y[np.arange(y.size), y] = 1\n",
    "        return enc_y\n",
    "    \n",
    "    @staticmethod\n",
    "    def ReLU(x):\n",
    "        return np.maximum(0,x)\n",
    "    \n",
    "    @staticmethod\n",
    "    def deriv_ReLU(Z):\n",
    "        return Z > 0\n",
    "\n",
    "    @staticmethod\n",
    "    def softmax(x):\n",
    "        \"\"\"This returns the row-wise softmax of a numpy array\"\"\"\n",
    "        # stabilized = x - np.max(x, axis=0)\n",
    "        e_x = np.exp(x)\n",
    "        x = e_x / np.sum(e_x)\n",
    "        return x\n",
    "\n"
   ]
  },
  {
   "cell_type": "code",
   "execution_count": 429,
   "metadata": {},
   "outputs": [
    {
     "data": {
      "text/plain": [
       "array([1.41125440e-06, 1.21228227e-06, 3.01301692e-06, 3.67054923e-06,\n",
       "       1.64355488e-06, 8.79970224e-07, 8.77125899e-07, 5.05844329e-06,\n",
       "       2.30539000e-06, 3.73793672e-06])"
      ]
     },
     "execution_count": 429,
     "metadata": {},
     "output_type": "execute_result"
    }
   ],
   "source": [
    "model = NeuralNetwork()\n",
    "y_pred = model.forward(x_train)\n",
    "y_pred[:,0]\n",
    "# model.z1[:,0]\n",
    "# model.backwards(y_train, x_train)\n"
   ]
  },
  {
   "cell_type": "code",
   "execution_count": 386,
   "metadata": {},
   "outputs": [
    {
     "data": {
      "text/plain": [
       "549450.3498593074"
      ]
     },
     "execution_count": 386,
     "metadata": {},
     "output_type": "execute_result"
    }
   ],
   "source": [
    "def cross_entropy(y, y_pred):\n",
    "    loss = -np.sum(y*np.log(y_pred.T))\n",
    "    return loss\n",
    "y = model.one_hot(y_train)\n",
    "cross_entropy(y, y_pred)\n"
   ]
  },
  {
   "cell_type": "code",
   "execution_count": 430,
   "metadata": {},
   "outputs": [],
   "source": [
    "data = np.array(train)\n",
    "m, n = data.shape\n",
    "np.random.shuffle(data) # shuffle before splitting into dev and training sets\n",
    "\n",
    "data_dev = data[0:1000].T\n",
    "Y_dev = data_dev[0]\n",
    "X_dev = data_dev[1:n]\n",
    "X_dev = X_dev / 255.\n",
    "\n",
    "data_train = data[1000:m].T\n",
    "Y_train = data_train[0]\n",
    "X_train = data_train[1:n]\n",
    "X_train = X_train / 255.\n",
    "_,m_train = X_train.shape"
   ]
  },
  {
   "cell_type": "code",
   "execution_count": 431,
   "metadata": {},
   "outputs": [],
   "source": [
    "def init_params():\n",
    "    W1 = np.random.rand(10, 784) - 0.5\n",
    "    b1 = np.random.rand(10, 1) - 0.5\n",
    "    W2 = np.random.rand(10, 10) - 0.5\n",
    "    b2 = np.random.rand(10, 1) - 0.5\n",
    "    return W1, b1, W2, b2\n",
    "\n",
    "def ReLU(Z):\n",
    "    return np.maximum(Z, 0)\n",
    "\n",
    "def softmax(Z):\n",
    "    A = np.exp(Z) / sum(np.exp(Z))\n",
    "    return A\n",
    "    \n",
    "def forward_prop(W1, b1, W2, b2, X):\n",
    "    Z1 = W1.dot(X) + b1\n",
    "    A1 = ReLU(Z1)\n",
    "    Z2 = W2.dot(A1) + b2\n",
    "    A2 = softmax(Z2)\n",
    "    return Z1, A1, Z2, A2\n",
    "\n",
    "def ReLU_deriv(Z):\n",
    "    return Z > 0\n",
    "\n",
    "def one_hot(Y):\n",
    "    one_hot_Y = np.zeros((Y.size, Y.max() + 1))\n",
    "    one_hot_Y[np.arange(Y.size), Y] = 1\n",
    "    one_hot_Y = one_hot_Y.T\n",
    "    return one_hot_Y\n",
    "\n",
    "def backward_prop(Z1, A1, Z2, A2, W1, W2, X, Y):\n",
    "    one_hot_Y = one_hot(Y)\n",
    "    dZ2 = A2 - one_hot_Y\n",
    "    dW2 = 1 / m * dZ2.dot(A1.T)\n",
    "    db2 = 1 / m * np.sum(dZ2)\n",
    "    dZ1 = W2.T.dot(dZ2) * ReLU_deriv(Z1)\n",
    "    dW1 = 1 / m * dZ1.dot(X.T)\n",
    "    db1 = 1 / m * np.sum(dZ1)\n",
    "    return dW1, db1, dW2, db2\n",
    "\n",
    "def update_params(W1, b1, W2, b2, dW1, db1, dW2, db2, alpha):\n",
    "    W1 = W1 - alpha * dW1\n",
    "    b1 = b1 - alpha * db1    \n",
    "    W2 = W2 - alpha * dW2  \n",
    "    b2 = b2 - alpha * db2    \n",
    "    return W1, b1, W2, b2"
   ]
  },
  {
   "cell_type": "code",
   "execution_count": 432,
   "metadata": {},
   "outputs": [],
   "source": [
    "def get_predictions(A2):\n",
    "    return np.argmax(A2, 0)\n",
    "\n",
    "def get_accuracy(predictions, Y):\n",
    "    print(predictions, Y)\n",
    "    return np.sum(predictions == Y) / Y.size\n",
    "\n",
    "def gradient_descent(X, Y, alpha, iterations):\n",
    "    W1, b1, W2, b2 = init_params()\n",
    "    for i in range(iterations):\n",
    "        Z1, A1, Z2, A2 = forward_prop(W1, b1, W2, b2, X)\n",
    "        dW1, db1, dW2, db2 = backward_prop(Z1, A1, Z2, A2, W1, W2, X, Y)\n",
    "        W1, b1, W2, b2 = update_params(W1, b1, W2, b2, dW1, db1, dW2, db2, alpha)\n",
    "        if i % 10 == 0:\n",
    "            print(\"Iteration: \", i)\n",
    "            predictions = get_predictions(A2)\n",
    "            print(get_accuracy(predictions, Y))\n",
    "    return W1, b1, W2, b2"
   ]
  },
  {
   "cell_type": "code",
   "execution_count": 433,
   "metadata": {},
   "outputs": [
    {
     "name": "stdout",
     "output_type": "stream",
     "text": [
      "Iteration:  0\n",
      "[3 4 1 ... 7 7 8] [5 2 7 ... 4 5 9]\n",
      "0.08529268292682927\n",
      "Iteration:  10\n",
      "[3 6 1 ... 7 4 7] [5 2 7 ... 4 5 9]\n",
      "0.1665609756097561\n",
      "Iteration:  20\n",
      "[6 6 7 ... 7 4 7] [5 2 7 ... 4 5 9]\n",
      "0.23434146341463416\n",
      "Iteration:  30\n",
      "[6 6 7 ... 7 4 7] [5 2 7 ... 4 5 9]\n",
      "0.301390243902439\n",
      "Iteration:  40\n",
      "[6 6 7 ... 7 8 7] [5 2 7 ... 4 5 9]\n",
      "0.3695609756097561\n",
      "Iteration:  50\n",
      "[6 6 7 ... 7 8 7] [5 2 7 ... 4 5 9]\n",
      "0.4281951219512195\n",
      "Iteration:  60\n",
      "[6 6 7 ... 7 8 7] [5 2 7 ... 4 5 9]\n",
      "0.47524390243902437\n",
      "Iteration:  70\n",
      "[6 6 7 ... 7 0 7] [5 2 7 ... 4 5 9]\n",
      "0.5254146341463415\n",
      "Iteration:  80\n",
      "[6 6 7 ... 7 0 7] [5 2 7 ... 4 5 9]\n",
      "0.5767317073170731\n",
      "Iteration:  90\n",
      "[6 6 7 ... 7 0 7] [5 2 7 ... 4 5 9]\n",
      "0.613780487804878\n",
      "Iteration:  100\n",
      "[6 2 7 ... 7 0 9] [5 2 7 ... 4 5 9]\n",
      "0.6401951219512195\n",
      "Iteration:  110\n",
      "[6 2 7 ... 7 0 9] [5 2 7 ... 4 5 9]\n",
      "0.6633902439024391\n",
      "Iteration:  120\n",
      "[6 2 7 ... 7 0 9] [5 2 7 ... 4 5 9]\n",
      "0.6805609756097561\n",
      "Iteration:  130\n",
      "[6 2 7 ... 7 0 9] [5 2 7 ... 4 5 9]\n",
      "0.6972682926829268\n",
      "Iteration:  140\n",
      "[6 2 7 ... 7 3 9] [5 2 7 ... 4 5 9]\n",
      "0.7118536585365853\n",
      "Iteration:  150\n",
      "[6 2 7 ... 7 3 9] [5 2 7 ... 4 5 9]\n",
      "0.7253170731707317\n",
      "Iteration:  160\n",
      "[6 2 7 ... 9 3 9] [5 2 7 ... 4 5 9]\n",
      "0.7366829268292683\n",
      "Iteration:  170\n",
      "[6 2 7 ... 9 3 9] [5 2 7 ... 4 5 9]\n",
      "0.7463170731707317\n",
      "Iteration:  180\n",
      "[6 2 7 ... 9 5 9] [5 2 7 ... 4 5 9]\n",
      "0.7562682926829268\n",
      "Iteration:  190\n",
      "[6 2 7 ... 9 5 9] [5 2 7 ... 4 5 9]\n",
      "0.7643414634146342\n",
      "Iteration:  200\n",
      "[6 2 7 ... 4 5 9] [5 2 7 ... 4 5 9]\n",
      "0.7725365853658537\n",
      "Iteration:  210\n",
      "[6 2 7 ... 4 5 9] [5 2 7 ... 4 5 9]\n",
      "0.7802926829268293\n",
      "Iteration:  220\n",
      "[6 2 7 ... 4 5 9] [5 2 7 ... 4 5 9]\n",
      "0.7862926829268293\n",
      "Iteration:  230\n",
      "[6 2 7 ... 4 5 9] [5 2 7 ... 4 5 9]\n",
      "0.7920487804878049\n",
      "Iteration:  240\n",
      "[6 2 7 ... 4 5 9] [5 2 7 ... 4 5 9]\n",
      "0.797439024390244\n",
      "Iteration:  250\n",
      "[6 2 7 ... 4 5 9] [5 2 7 ... 4 5 9]\n",
      "0.8022439024390244\n",
      "Iteration:  260\n",
      "[6 2 7 ... 4 5 9] [5 2 7 ... 4 5 9]\n",
      "0.8066585365853659\n",
      "Iteration:  270\n",
      "[6 2 7 ... 4 5 9] [5 2 7 ... 4 5 9]\n",
      "0.8109268292682927\n",
      "Iteration:  280\n",
      "[6 2 7 ... 4 5 9] [5 2 7 ... 4 5 9]\n",
      "0.8151951219512195\n",
      "Iteration:  290\n",
      "[6 2 7 ... 4 5 9] [5 2 7 ... 4 5 9]\n",
      "0.8191951219512195\n",
      "Iteration:  300\n",
      "[6 2 7 ... 4 5 9] [5 2 7 ... 4 5 9]\n",
      "0.822390243902439\n",
      "Iteration:  310\n",
      "[6 2 7 ... 4 5 9] [5 2 7 ... 4 5 9]\n",
      "0.826\n",
      "Iteration:  320\n",
      "[6 2 7 ... 4 5 9] [5 2 7 ... 4 5 9]\n",
      "0.8293658536585365\n",
      "Iteration:  330\n",
      "[6 2 7 ... 4 5 9] [5 2 7 ... 4 5 9]\n",
      "0.8320243902439024\n",
      "Iteration:  340\n",
      "[6 2 7 ... 4 5 9] [5 2 7 ... 4 5 9]\n",
      "0.8343658536585365\n",
      "Iteration:  350\n",
      "[6 2 7 ... 4 5 9] [5 2 7 ... 4 5 9]\n",
      "0.836780487804878\n",
      "Iteration:  360\n",
      "[6 2 7 ... 4 5 9] [5 2 7 ... 4 5 9]\n",
      "0.8388048780487805\n",
      "Iteration:  370\n",
      "[6 2 7 ... 4 5 9] [5 2 7 ... 4 5 9]\n",
      "0.8413414634146341\n",
      "Iteration:  380\n",
      "[6 2 7 ... 4 5 9] [5 2 7 ... 4 5 9]\n",
      "0.8433658536585366\n",
      "Iteration:  390\n",
      "[6 2 7 ... 4 5 9] [5 2 7 ... 4 5 9]\n",
      "0.8454390243902439\n",
      "Iteration:  400\n",
      "[6 2 7 ... 4 5 9] [5 2 7 ... 4 5 9]\n",
      "0.8472195121951219\n",
      "Iteration:  410\n",
      "[6 2 7 ... 4 5 9] [5 2 7 ... 4 5 9]\n",
      "0.849\n",
      "Iteration:  420\n",
      "[6 2 7 ... 4 5 9] [5 2 7 ... 4 5 9]\n",
      "0.8507073170731707\n",
      "Iteration:  430\n",
      "[6 2 7 ... 4 5 9] [5 2 7 ... 4 5 9]\n",
      "0.852170731707317\n",
      "Iteration:  440\n",
      "[6 2 7 ... 4 5 9] [5 2 7 ... 4 5 9]\n",
      "0.8535365853658536\n",
      "Iteration:  450\n",
      "[6 2 7 ... 4 5 9] [5 2 7 ... 4 5 9]\n",
      "0.8543414634146341\n",
      "Iteration:  460\n",
      "[6 2 7 ... 4 5 9] [5 2 7 ... 4 5 9]\n",
      "0.8555121951219512\n",
      "Iteration:  470\n",
      "[6 2 7 ... 4 5 9] [5 2 7 ... 4 5 9]\n",
      "0.8566829268292683\n",
      "Iteration:  480\n",
      "[6 2 7 ... 4 5 9] [5 2 7 ... 4 5 9]\n",
      "0.857780487804878\n",
      "Iteration:  490\n",
      "[6 2 7 ... 4 5 9] [5 2 7 ... 4 5 9]\n",
      "0.8588292682926829\n"
     ]
    }
   ],
   "source": [
    "W1, b1, W2, b2 = gradient_descent(X_train, Y_train, 0.10, 500)"
   ]
  },
  {
   "cell_type": "code",
   "execution_count": 4,
   "metadata": {},
   "outputs": [
    {
     "ename": "ImportError",
     "evalue": "cannot import name 'Value' from 'nanograd.value' (/Users/jonah.breslow/dev/neural-net-numpy/nanograd/value.py)",
     "output_type": "error",
     "traceback": [
      "\u001b[0;31m---------------------------------------------------------------------------\u001b[0m",
      "\u001b[0;31mImportError\u001b[0m                               Traceback (most recent call last)",
      "Cell \u001b[0;32mIn[4], line 2\u001b[0m\n\u001b[1;32m      1\u001b[0m \u001b[39m# Using nanograd\u001b[39;00m\n\u001b[0;32m----> 2\u001b[0m \u001b[39mfrom\u001b[39;00m \u001b[39mnanograd\u001b[39;00m\u001b[39m.\u001b[39;00m\u001b[39mvalue\u001b[39;00m \u001b[39mimport\u001b[39;00m Value\n\u001b[1;32m      4\u001b[0m a \u001b[39m=\u001b[39m Value(\u001b[39m2\u001b[39m)\n",
      "\u001b[0;31mImportError\u001b[0m: cannot import name 'Value' from 'nanograd.value' (/Users/jonah.breslow/dev/neural-net-numpy/nanograd/value.py)"
     ]
    }
   ],
   "source": [
    "# Using nanograd\n",
    "from nanograd.value import Value\n",
    "\n",
    "a = Value(2)\n"
   ]
  },
  {
   "cell_type": "code",
   "execution_count": 439,
   "metadata": {},
   "outputs": [
    {
     "ename": "TypeError",
     "evalue": "'module' object is not callable",
     "output_type": "error",
     "traceback": [
      "\u001b[0;31m---------------------------------------------------------------------------\u001b[0m",
      "\u001b[0;31mTypeError\u001b[0m                                 Traceback (most recent call last)",
      "Cell \u001b[0;32mIn[439], line 1\u001b[0m\n\u001b[0;32m----> 1\u001b[0m value(\u001b[39m3\u001b[39;49m)\n",
      "\u001b[0;31mTypeError\u001b[0m: 'module' object is not callable"
     ]
    }
   ],
   "source": [
    "value(3)"
   ]
  },
  {
   "cell_type": "code",
   "execution_count": null,
   "metadata": {},
   "outputs": [],
   "source": []
  }
 ],
 "metadata": {
  "kernelspec": {
   "display_name": ".venv39",
   "language": "python",
   "name": "python3"
  },
  "language_info": {
   "codemirror_mode": {
    "name": "ipython",
    "version": 3
   },
   "file_extension": ".py",
   "mimetype": "text/x-python",
   "name": "python",
   "nbconvert_exporter": "python",
   "pygments_lexer": "ipython3",
   "version": "3.10.9"
  },
  "orig_nbformat": 4,
  "vscode": {
   "interpreter": {
    "hash": "a064d5beaecbac7435ae4dff5ea43f9741980359ab24bf8bd1116605e7f16270"
   }
  }
 },
 "nbformat": 4,
 "nbformat_minor": 2
}
